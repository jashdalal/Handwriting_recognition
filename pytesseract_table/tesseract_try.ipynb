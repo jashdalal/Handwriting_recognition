{
 "cells": [
  {
   "cell_type": "code",
   "execution_count": null,
   "metadata": {},
   "outputs": [],
   "source": [
    "Functions in tesseract\n",
    "\n",
    "get_tesseract_version: Returns the Tesseract version installed in the system.\n",
    "image_to_string: Returns the result of a Tesseract OCR run on the image to string\n",
    "image_to_boxes: Returns result containing recognized characters and their box boundaries\n",
    "image_to_data: Returns result containing box boundaries, confidences, and other information. Requires Tesseract 3.05+. For more information, please check the Tesseract TSV documentation\n",
    "image_to_osd: Returns result containing information about orientation and script detection"
   ]
  },
  {
   "cell_type": "code",
   "execution_count": 1,
   "metadata": {},
   "outputs": [],
   "source": [
    "# tabula-py is just a wrapper around tabula-java\n",
    "img_path = r\"images/beautify.jpg\"\n"
   ]
  },
  {
   "cell_type": "code",
   "execution_count": 2,
   "metadata": {
    "scrolled": true
   },
   "outputs": [],
   "source": [
    "import PIL\n",
    "from PIL import Image\n",
    "import cv2\n",
    "import pytesseract\n",
    "import img2pdf\n",
    "import tabula\n",
    "\n",
    "pytesseract.pytesseract.tesseract_cmd = r\"C:\\Program Files\\Tesseract-OCR\\tesseract.exe\"\n",
    "\n",
    "with Image.open(img_path) as img:\n",
    "    tesseract_output = pytesseract.image_to_string(img, lang='eng', config='--psm 3')\n",
    "    img.close()"
   ]
  },
  {
   "cell_type": "code",
   "execution_count": 3,
   "metadata": {},
   "outputs": [
    {
     "name": "stdout",
     "output_type": "stream",
     "text": [
      "Example 4: Automobile Land Speed Records (GR 5-10)\n",
      "\n",
      "In the first recorded automobile race in 1898, Count Gaston de Chasseloup-Laubat of,\n",
      "Paris, France, drove 1 kilometer in 57 seconds for an average speed of 39.2 miles per hour\n",
      "(mph) or 63.1 kilometers per hour (kph). In 1904, Henry Ford drove his Ford Arrow across\n",
      "frozen Lake St. Clair; MI, at an average speed of 91.4 mph. Now, the North American\n",
      "Eagle is trying to break a land speed record of 800 mph. The Federation International de\n",
      "Lautomobile (FIA), the world’s governing body for motor sport and land speed records,\n",
      "recorded the following land speed records. (Retrieved on February 5, 2006, from\n",
      "\n",
      "http://www.landspeed.com/lsrinfo.asp.)\n",
      "\n",
      " \n",
      "\n",
      " \n",
      "\n",
      " \n",
      "\n",
      " \n",
      "\n",
      " \n",
      "\n",
      " \n",
      "\n",
      " \n",
      "\n",
      " \n",
      "\n",
      " \n",
      "\n",
      " \n",
      "\n",
      " \n",
      "\n",
      " \n",
      "\n",
      " \n",
      "\n",
      " \n",
      "\n",
      " \n",
      "\n",
      " \n",
      "\n",
      " \n",
      "\n",
      "speed (mph) | Driver car Engine Date\n",
      "407.447 Craig Breedlove | Spirit of America e347 9/5/63\n",
      "413.199 ‘Tom Green| Wingfoot Exprese WE 346 10/2/64\n",
      "434,22 Art Arfons Green Monster cEN79 10/5/64\n",
      "469.719, Craig Breedlove | Spirit of America cEN9 10/13/64\n",
      "526.27 Craig Breedlove | Spirit of America cen 10/15/65\n",
      "536.722, Ait Arfons Green Monster ceN79 10/27/65\n",
      "955.127 Craig Breedlove | Spirit of America, Sonic 1 | GEI79 11/2/65\n",
      "576.553, Art Arfons (Green Monster GEN79 1/7/65\n",
      "600.601 Craig Breedlove | Spirit of America, Sonie1 | GE379 14/15/65\n",
      "622.407 ‘Gary Gabelich Blue lame: Rocket 10/23/70\n",
      "633.468, Richard Noble Thrust 2 arc i4s | 10/4/83\n",
      "763.035 ‘Andy Green Thrust SSC RRSpey _ | 10/15/97\n",
      "\n",
      " \n",
      "\n",
      " \n",
      "\n",
      " \n",
      "\n",
      "Example 5: Distance and Time (GR 8-10)\n",
      "The following data were collected using a car with a water clock set to release a drop in\n",
      "\n",
      "a unit of time and a meter stick. The car rolled down an inclined plane. Three trials were\n",
      "run. Create a data table with an average distance column and an average velocity column,\n",
      "create an average distance-time graph, and draw the best-fit line or curve. Estimate the\n",
      "car's distance traveled and velocity at six drops of water. Describe the motion of the car. Is\n",
      "it going at 2 constant speed, accelerating, or decelerating? How do you know?\n",
      "\n",
      " \n",
      "\n",
      " \n",
      "\n",
      " \n",
      "\n",
      " \n",
      "\n",
      " \n",
      "\n",
      " \n",
      "\n",
      "Time (drops of water) | _ Distance (em)\n",
      "T T0da3\n",
      "2 29, 31,30\n",
      "3 59, 58, 62\n",
      "4 102, 100, 98\n",
      "3 122, 125, 127\n",
      "\n",
      " \n",
      "\n",
      " \n",
      "\n",
      " \n",
      "\n",
      " \n",
      "\n",
      "© 2006 WGBH Educational Foundation. All rights reserved.\n"
     ]
    }
   ],
   "source": [
    "print(tesseract_output)"
   ]
  },
  {
   "cell_type": "raw",
   "metadata": {},
   "source": [
    "#converts image to pdf in case of image input\n",
    "image = Image.open(img_path)\n",
    "pdf_bytes = img2pdf.convert(image.filename)\n",
    "file = open(pdf_path, \"wb\")\n",
    "file.write(pdf_bytes) \n",
    "image.close()\n",
    "file.close()\n"
   ]
  }
 ],
 "metadata": {
  "kernelspec": {
   "display_name": "Python 3",
   "language": "python",
   "name": "python3"
  },
  "language_info": {
   "codemirror_mode": {
    "name": "ipython",
    "version": 3
   },
   "file_extension": ".py",
   "mimetype": "text/x-python",
   "name": "python",
   "nbconvert_exporter": "python",
   "pygments_lexer": "ipython3",
   "version": "3.7.1"
  }
 },
 "nbformat": 4,
 "nbformat_minor": 2
}
